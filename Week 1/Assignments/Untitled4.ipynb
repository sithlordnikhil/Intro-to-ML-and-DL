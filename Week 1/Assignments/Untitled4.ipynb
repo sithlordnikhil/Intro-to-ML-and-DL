{
 "cells": [
  {
   "cell_type": "code",
   "execution_count": 1,
   "id": "d972c604",
   "metadata": {},
   "outputs": [],
   "source": [
    "import requests\n",
    "import pandas as pd\n",
    "from bs4 import BeautifulSoup"
   ]
  },
  {
   "cell_type": "code",
   "execution_count": 2,
   "id": "b11973a4",
   "metadata": {},
   "outputs": [],
   "source": [
    "url = 'https://www.worldometers.info/coronavirus/'\n",
    "r = requests.get(url)"
   ]
  },
  {
   "cell_type": "code",
   "execution_count": 3,
   "id": "130804f6",
   "metadata": {},
   "outputs": [],
   "source": [
    "soup = BeautifulSoup(r.text, 'lxml')"
   ]
  },
  {
   "cell_type": "code",
   "execution_count": 4,
   "id": "82344c4e",
   "metadata": {},
   "outputs": [],
   "source": [
    "table1 = soup.find('table', id='main_table_countries_today')"
   ]
  },
  {
   "cell_type": "code",
   "execution_count": 5,
   "id": "26aa2edb",
   "metadata": {},
   "outputs": [],
   "source": [
    "headers = []\n",
    "for i in table1.find_all('th'):\n",
    " title = i.text\n",
    " headers.append(title)"
   ]
  },
  {
   "cell_type": "code",
   "execution_count": 6,
   "id": "653565d9",
   "metadata": {},
   "outputs": [],
   "source": [
    "mydata = pd.DataFrame(columns = headers)"
   ]
  },
  {
   "cell_type": "code",
   "execution_count": 7,
   "id": "94e3a121",
   "metadata": {},
   "outputs": [],
   "source": [
    "for j in table1.find_all('tr')[1:]:\n",
    " row_data = j.find_all('td')\n",
    " row = [i.text for i in row_data]\n",
    " length = len(mydata)\n",
    " mydata.loc[length] = row"
   ]
  },
  {
   "cell_type": "code",
   "execution_count": 8,
   "id": "27b9c9b0",
   "metadata": {},
   "outputs": [],
   "source": [
    "# Drop and clearing unnecessary rows\n",
    "mydata.drop(mydata.index[0:7], inplace=True)\n",
    "mydata.drop(mydata.index[222:229], inplace=True)\n",
    "mydata.reset_index(inplace=True, drop=True)\n",
    "# Drop “#” column\n",
    "mydata.drop('#', inplace=True, axis=1)"
   ]
  },
  {
   "cell_type": "code",
   "execution_count": 9,
   "id": "ce8d3c31",
   "metadata": {},
   "outputs": [],
   "source": [
    "# Export to csv\n",
    "mydata.to_csv('covid_data.csv', index=False)\n",
    "# Try to read csv\n",
    "mydata2 = pd.read_csv('covid_data.csv')"
   ]
  },
  {
   "cell_type": "code",
   "execution_count": 10,
   "id": "acb35e57",
   "metadata": {},
   "outputs": [],
   "source": [
    "columns_to_keep=['Country,Other','Continent','Population','TotalCases','NewCases','TotalDeaths','NewDeaths']"
   ]
  },
  {
   "cell_type": "code",
   "execution_count": 11,
   "id": "68604b21",
   "metadata": {},
   "outputs": [],
   "source": [
    "mydata2 = mydata2[columns_to_keep]"
   ]
  },
  {
   "cell_type": "code",
   "execution_count": 12,
   "id": "f02fbc3f",
   "metadata": {},
   "outputs": [
    {
     "name": "stdout",
     "output_type": "stream",
     "text": [
      "    Country,Other          Continent      Population   TotalCases NewCases   \n",
      "0           World                All             NaN  689,013,308  +11,677  \\\n",
      "1             USA      North America    334,805,269   107,042,460      NaN   \n",
      "2           India               Asia  1,406,631,776    44,986,934      NaN   \n",
      "3          France             Europe     65,584,518    40,054,863      NaN   \n",
      "4         Germany             Europe     83,883,596    38,422,054      NaN   \n",
      "..            ...                ...             ...          ...      ...   \n",
      "228        Total:      South America             NaN   68,674,084      NaN   \n",
      "229        Total:  Australia/Oceania             NaN   14,323,646   +2,022   \n",
      "230        Total:             Africa             NaN   12,823,223      NaN   \n",
      "231        Total:                NaN             NaN          721      NaN   \n",
      "232        Total:                All             NaN  689,013,308  +11,677   \n",
      "\n",
      "                                   TotalDeaths  NewDeaths  \n",
      "0                                    6,880,506       88.0  \n",
      "1    1,164,345                                        NaN  \n",
      "2      531,839                                        NaN  \n",
      "3      167,052                                        NaN  \n",
      "4      173,995                                        NaN  \n",
      "..                                         ...        ...  \n",
      "228                                  1,355,584        NaN  \n",
      "229                                     27,858       11.0  \n",
      "230                                    258,762        NaN  \n",
      "231                                         15        NaN  \n",
      "232                                  6,880,506       88.0  \n",
      "\n",
      "[233 rows x 7 columns]\n"
     ]
    }
   ],
   "source": [
    "print(mydata2)"
   ]
  },
  {
   "cell_type": "code",
   "execution_count": null,
   "id": "3be2850d",
   "metadata": {},
   "outputs": [],
   "source": []
  }
 ],
 "metadata": {
  "kernelspec": {
   "display_name": "Python 3 (ipykernel)",
   "language": "python",
   "name": "python3"
  },
  "language_info": {
   "codemirror_mode": {
    "name": "ipython",
    "version": 3
   },
   "file_extension": ".py",
   "mimetype": "text/x-python",
   "name": "python",
   "nbconvert_exporter": "python",
   "pygments_lexer": "ipython3",
   "version": "3.11.3"
  }
 },
 "nbformat": 4,
 "nbformat_minor": 5
}
